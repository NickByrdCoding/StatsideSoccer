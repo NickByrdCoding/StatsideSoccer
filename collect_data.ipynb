{
 "cells": [
  {
   "cell_type": "code",
   "execution_count": 14,
   "metadata": {},
   "outputs": [
    {
     "name": "stdout",
     "output_type": "stream",
     "text": [
      "Requirement already satisfied: pandas in /Users/arnavarora/anaconda3/lib/python3.11/site-packages (1.5.3)\n",
      "Requirement already satisfied: python-dateutil>=2.8.1 in /Users/arnavarora/anaconda3/lib/python3.11/site-packages (from pandas) (2.8.2)\n",
      "Requirement already satisfied: pytz>=2020.1 in /Users/arnavarora/anaconda3/lib/python3.11/site-packages (from pandas) (2022.7)\n",
      "Requirement already satisfied: numpy>=1.21.0 in /Users/arnavarora/anaconda3/lib/python3.11/site-packages (from pandas) (1.24.3)\n",
      "Requirement already satisfied: six>=1.5 in /Users/arnavarora/anaconda3/lib/python3.11/site-packages (from python-dateutil>=2.8.1->pandas) (1.16.0)\n",
      "Note: you may need to restart the kernel to use updated packages.\n",
      "Note: you may need to restart the kernel to use updated packages.\n"
     ]
    }
   ],
   "source": [
    "%pip install pandas\n",
    "%pip install -q -U google-genai"
   ]
  },
  {
   "cell_type": "code",
   "execution_count": 15,
   "metadata": {},
   "outputs": [],
   "source": [
    "import pandas as pd\n",
    "\n",
    "possession_file = open(\"possession_columns.txt\", \"r\")\n",
    "possession_frames = pd.read_csv(\"sporting_college_data_1846146_player_possessions.csv\")\n",
    "possession_frames = possession_frames[[col for col in possession_file.read().split(\"\\n\")]]\n",
    "\n",
    "passing_file = open(\"passing_columns.txt\", \"r\")\n",
    "pass_frames = pd.read_csv(\"sporting_college_data_1846146_passing_options.csv\")\n",
    "passing_frames = pass_frames[[col for col in passing_file.read().split(\"\\n\")]]\n"
   ]
  },
  {
   "cell_type": "code",
   "execution_count": 16,
   "metadata": {},
   "outputs": [],
   "source": [
    "from Player import Player\n",
    "from Pass import Pass\n",
    "from TeamPossession import TeamPossession\n",
    "from PlayerPossession import PlayerPossession\n",
    "from Zone import Zone\n",
    "\n",
    "def get_best_option(cur_player, option_index):\n",
    "    options_frame = passing_frames.iloc[option_index]\n",
    "    best_frame = None\n",
    "    best_threat = 0\n",
    "    pass_exists = False\n",
    "    while options_frame[\"player_in_possession_id\"] == cur_player:\n",
    "        cur_xthreat = options_frame[\"xthreat\"] if pd.notnull(options_frame[\"xthreat\"]) else 0\n",
    "        cur_pass_completion = options_frame[\"xpass_completion\"] if pd.notnull(options_frame[\"xpass_completion\"]) else 0\n",
    "        if cur_xthreat * cur_pass_completion > best_threat:\n",
    "            best_threat = cur_xthreat * cur_pass_completion\n",
    "            best_frame = options_frame\n",
    "            pass_exists = True\n",
    "        option_index += 1\n",
    "        if option_index >= len(passing_frames):\n",
    "            break\n",
    "        options_frame = passing_frames.iloc[option_index]\n",
    "    best_pass = None\n",
    "    if pass_exists:\n",
    "        best_pass = Pass(best_frame[\"pass_direction_id\"], best_frame[\"pass_range_id\"], \n",
    "                        None, best_frame[\"xpass_completion\"], best_frame[\"xthreat\"], best_frame[\"player_id\"])\n",
    "    return option_index, best_pass\n",
    "\n",
    "def get_pass_type(player_frame):\n",
    "    if player_frame[\"quick_pass\"]:\n",
    "        return \"Quick Pass\"\n",
    "    if player_frame[\"one_touch\"] and not player_frame[\"is_header\"]:\n",
    "        return \"One Touch\"\n",
    "    if player_frame[\"initiate_give_and_go\"]:\n",
    "        return \"Give and Go\"\n",
    "    return \"Regular\"\n",
    "\n",
    "def create_player_possession(player_frame, option_index):\n",
    "    cur_player = Player(player_frame[\"player_id\"], player_frame[\"player_name\"], player_frame[\"player_position\"])\n",
    "    targeted_pass = Pass(player_frame[\"interplayer_direction_id\"], player_frame[\"interplayer_distance_range_id\"], \n",
    "                     get_pass_type(player_frame), player_frame[\"player_targeted_xpass_completion\"], \n",
    "                     player_frame[\"player_targeted_xthreat\"], player_frame[\"player_targeted_name\"])\n",
    "    option_index, best_pass = get_best_option(player_frame[\"player_id\"], option_index)\n",
    "    start_zone = Zone(player_frame[\"channel_id_start\"], player_frame[\"third_id_start\"])\n",
    "    end_zone = Zone(player_frame[\"channel_id_end\"], player_frame[\"third_id_end\"])\n",
    "    return option_index, PlayerPossession(player_frame[\"separation_start\"], player_frame[\"separation_end\"], \n",
    "                            start_zone, end_zone, best_pass, \n",
    "                            targeted_pass, cur_player, player_frame[\"frame_start\"], player_frame[\"frame_end\"])\n",
    "\n",
    "possessions = []\n",
    "# Change team ID\n",
    "current_team = 2337\n",
    "option_index = 0\n",
    "starts_possession = True\n",
    "cur_possession = None\n",
    "\n",
    "for i in range(len(possession_frames)):\n",
    "    cur_frame = possession_frames.iloc[i]\n",
    "    if cur_frame[\"team_id\"] != current_team:\n",
    "        if cur_possession:\n",
    "            possessions.append(cur_possession)\n",
    "            cur_possession = None\n",
    "        starts_possession = True\n",
    "        while option_index < len(passing_frames) and passing_frames.iloc[option_index][\"player_in_possession_id\"] == cur_frame[\"player_id\"]:\n",
    "            option_index += 1\n",
    "        continue\n",
    "    option_index, player_possession = create_player_possession(cur_frame, option_index)\n",
    "    if starts_possession:\n",
    "        cur_possession = TeamPossession()\n",
    "    cur_possession.add_player_possession(player_possession, starts_possession)\n",
    "    starts_possession = False\n",
    "\n",
    "if cur_possession:\n",
    "    possessions.append(cur_possession)"
   ]
  },
  {
   "cell_type": "code",
   "execution_count": 17,
   "metadata": {},
   "outputs": [],
   "source": [
    "from MomentDetector import MomentDetector \n",
    "from Trends import Trends\n",
    "\n",
    "md = MomentDetector()\n",
    "moments_count = 0\n",
    "up_count = 0\n",
    "threatening_count = 0\n",
    "p_moments = []\n",
    "t_moments = []\n",
    "for possession in possessions:\n",
    "   moments = md.detect_moment(possession)\n",
    "   for moment in moments:\n",
    "        if moment.moment_type == \"Under_Pressure\":\n",
    "            p_moments.append(moment)\n",
    "        else:\n",
    "            t_moments.append(moment)\n",
    "trend = Trends(p_moments, t_moments)\n",
    "zone_summary = trend.get_zone_insights()\n",
    "tempo_summary = trend.get_tempo_insights()\n",
    "switch_summary = trend.get_switching_insights()\n",
    "player_summary = trend.get_player_chain_insights()\n"
   ]
  },
  {
   "cell_type": "code",
   "execution_count": 18,
   "metadata": {},
   "outputs": [
    {
     "name": "stdout",
     "output_type": "stream",
     "text": [
      "{'zone_chains_failed_pressure': {}, 'starting_zones_failed_pressure': {}, 'zone_chains_successful_pressure': {(10, 10): 7, (8, 8): 6, (5, 10): 3, (9, 8): 3, (3, 1): 3, (3, 8): 3, (6, 6): 3, (6, 7): 3}, 'starting_zones_successful_pressure': {10: 9, 8: 6}, 'zone_chains_threatening': {(15, 13): 2, (12, 13): 2, (11, 13): 2, (13, 13): 2, (9, 13): 2, (13, 12): 2}, 'end_zones_threatening': {13: 4, 12: 3}}\n",
      "{'tempo_successful_pressure_avg_duration': 10.120000000000001, 'tempo_successful_pressure_avg_one_touch_ratio': 0.41666666666666663, 'tempo_successful_pressure_count': 10, 'tempo_failed_pressure_avg_duration': 0, 'tempo_failed_pressure_avg_one_touch_ratio': 0, 'tempo_failed_pressure_count': 0, 'tempo_threatening_avg_duration': 29.349999999999998, 'tempo_threatening_avg_one_touch_ratio': 0.35, 'tempo_threatening_count': 4}\n",
      "\n",
      " Num switches in buildup to attack: 1/4Num switches in escaping pressure: 1/10\n",
      "{'chains_successful_pressure': {('N. Kuikka', 'J. Joseph'): 3, ('J. Joseph', 'N. Kuikka'): 2, ('S. Groom', nan): 2}, 'chains_failed_pressure': {}, 'chains_threatening': {('L. Nesbeth', 'J. Joseph'): 2, ('J. Joseph', 'M. Swanson'): 2, ('C. Biegalski', 'J. Joseph'): 1}, 'players_successful_pressure': {'M. Swanson': 11, 'J. Joseph': 9, 'J. Grosso': 7}, 'players_failed_pressure': {}, 'players_threatening': {'J. Joseph': 7, 'M. Swanson': 5, 'C. Biegalski': 3}}\n"
     ]
    }
   ],
   "source": [
    "print(zone_summary)\n",
    "print(tempo_summary)\n",
    "print(switch_summary)\n",
    "print(player_summary )"
   ]
  },
  {
   "cell_type": "code",
   "execution_count": 19,
   "metadata": {},
   "outputs": [
    {
     "ename": "ClientError",
     "evalue": "400 INVALID_ARGUMENT. {'error': {'code': 400, 'message': 'API key not valid. Please pass a valid API key.', 'status': 'INVALID_ARGUMENT', 'details': [{'@type': 'type.googleapis.com/google.rpc.ErrorInfo', 'reason': 'API_KEY_INVALID', 'domain': 'googleapis.com', 'metadata': {'service': 'generativelanguage.googleapis.com'}}, {'@type': 'type.googleapis.com/google.rpc.LocalizedMessage', 'locale': 'en-US', 'message': 'API key not valid. Please pass a valid API key.'}]}}",
     "output_type": "error",
     "traceback": [
      "\u001b[0;31m---------------------------------------------------------------------------\u001b[0m",
      "\u001b[0;31mClientError\u001b[0m                               Traceback (most recent call last)",
      "\u001b[1;32m/Users/arnavarora/GameAnalysis/collect_data.ipynb Cell 6\u001b[0m line \u001b[0;36m5\n\u001b[1;32m      <a href='vscode-notebook-cell:/Users/arnavarora/GameAnalysis/collect_data.ipynb#W5sZmlsZQ%3D%3D?line=0'>1</a>\u001b[0m \u001b[39mfrom\u001b[39;00m \u001b[39mgoogle\u001b[39;00m \u001b[39mimport\u001b[39;00m genai\n\u001b[1;32m      <a href='vscode-notebook-cell:/Users/arnavarora/GameAnalysis/collect_data.ipynb#W5sZmlsZQ%3D%3D?line=2'>3</a>\u001b[0m client \u001b[39m=\u001b[39m genai\u001b[39m.\u001b[39mClient(api_key\u001b[39m=\u001b[39m\u001b[39m\"\u001b[39m\u001b[39mINSERT KEY HERE\u001b[39m\u001b[39m\"\u001b[39m)\n\u001b[0;32m----> <a href='vscode-notebook-cell:/Users/arnavarora/GameAnalysis/collect_data.ipynb#W5sZmlsZQ%3D%3D?line=4'>5</a>\u001b[0m response \u001b[39m=\u001b[39m client\u001b[39m.\u001b[39mmodels\u001b[39m.\u001b[39mgenerate_content(\n\u001b[1;32m      <a href='vscode-notebook-cell:/Users/arnavarora/GameAnalysis/collect_data.ipynb#W5sZmlsZQ%3D%3D?line=5'>6</a>\u001b[0m     model\u001b[39m=\u001b[39m\u001b[39m\"\u001b[39m\u001b[39mgemini-2.0-flash\u001b[39m\u001b[39m\"\u001b[39m, contents\u001b[39m=\u001b[39m\n\u001b[1;32m      <a href='vscode-notebook-cell:/Users/arnavarora/GameAnalysis/collect_data.ipynb#W5sZmlsZQ%3D%3D?line=6'>7</a>\u001b[0m \u001b[39m    \u001b[39m\u001b[39m\"\"\"\u001b[39;00m\n\u001b[1;32m      <a href='vscode-notebook-cell:/Users/arnavarora/GameAnalysis/collect_data.ipynb#W5sZmlsZQ%3D%3D?line=7'>8</a>\u001b[0m \u001b[39m        You are a soccer analyst reviewing data from a team’s performance. The field is divided into 15 zones, composed of 5 vertical channels and 3 horizontal thirds.\u001b[39;00m\n\u001b[1;32m      <a href='vscode-notebook-cell:/Users/arnavarora/GameAnalysis/collect_data.ipynb#W5sZmlsZQ%3D%3D?line=8'>9</a>\u001b[0m \n\u001b[1;32m     <a href='vscode-notebook-cell:/Users/arnavarora/GameAnalysis/collect_data.ipynb#W5sZmlsZQ%3D%3D?line=9'>10</a>\u001b[0m \u001b[39m        There are two types of situations being analyzed:\u001b[39;00m\n\u001b[1;32m     <a href='vscode-notebook-cell:/Users/arnavarora/GameAnalysis/collect_data.ipynb#W5sZmlsZQ%3D%3D?line=10'>11</a>\u001b[0m \u001b[39m        - **Pressure moments**: instances where the team is under high defensive pressure.\u001b[39;00m\n\u001b[1;32m     <a href='vscode-notebook-cell:/Users/arnavarora/GameAnalysis/collect_data.ipynb#W5sZmlsZQ%3D%3D?line=11'>12</a>\u001b[0m \u001b[39m        - **Threatening moments**: attacking sequences progressing consecutively toward goal.\u001b[39;00m\n\u001b[1;32m     <a href='vscode-notebook-cell:/Users/arnavarora/GameAnalysis/collect_data.ipynb#W5sZmlsZQ%3D%3D?line=12'>13</a>\u001b[0m \n\u001b[1;32m     <a href='vscode-notebook-cell:/Users/arnavarora/GameAnalysis/collect_data.ipynb#W5sZmlsZQ%3D%3D?line=13'>14</a>\u001b[0m \u001b[39m        For each situation, the following types of insights are available:\u001b[39;00m\n\u001b[1;32m     <a href='vscode-notebook-cell:/Users/arnavarora/GameAnalysis/collect_data.ipynb#W5sZmlsZQ%3D%3D?line=14'>15</a>\u001b[0m \u001b[39m        - **Zones**: which zones possessions start in, end in, and the chains of movement between zones during a possession.\u001b[39;00m\n\u001b[1;32m     <a href='vscode-notebook-cell:/Users/arnavarora/GameAnalysis/collect_data.ipynb#W5sZmlsZQ%3D%3D?line=15'>16</a>\u001b[0m \u001b[39m        - **Switches**: switches of play defined as movements across 2 or more channels.\u001b[39;00m\n\u001b[1;32m     <a href='vscode-notebook-cell:/Users/arnavarora/GameAnalysis/collect_data.ipynb#W5sZmlsZQ%3D%3D?line=16'>17</a>\u001b[0m \u001b[39m        - **Player chains**: consecutive passes between players.\u001b[39;00m\n\u001b[1;32m     <a href='vscode-notebook-cell:/Users/arnavarora/GameAnalysis/collect_data.ipynb#W5sZmlsZQ%3D%3D?line=17'>18</a>\u001b[0m \u001b[39m        - **Player involvement**: how frequently individual players were involved in passes.\u001b[39;00m\n\u001b[1;32m     <a href='vscode-notebook-cell:/Users/arnavarora/GameAnalysis/collect_data.ipynb#W5sZmlsZQ%3D%3D?line=18'>19</a>\u001b[0m \n\u001b[1;32m     <a href='vscode-notebook-cell:/Users/arnavarora/GameAnalysis/collect_data.ipynb#W5sZmlsZQ%3D%3D?line=19'>20</a>\u001b[0m \u001b[39m        Instructions:\u001b[39;00m\n\u001b[1;32m     <a href='vscode-notebook-cell:/Users/arnavarora/GameAnalysis/collect_data.ipynb#W5sZmlsZQ%3D%3D?line=20'>21</a>\u001b[0m \u001b[39m        - Provide a **7-sentence summary** for each situation: one for pressure moments, and one for threatening moments.\u001b[39;00m\n\u001b[1;32m     <a href='vscode-notebook-cell:/Users/arnavarora/GameAnalysis/collect_data.ipynb#W5sZmlsZQ%3D%3D?line=21'>22</a>\u001b[0m \u001b[39m        - Present a **bullet-point breakdown** of the key insights in each case, using natural language that’s easy for non-technical readers to understand.\u001b[39;00m\n\u001b[1;32m     <a href='vscode-notebook-cell:/Users/arnavarora/GameAnalysis/collect_data.ipynb#W5sZmlsZQ%3D%3D?line=22'>23</a>\u001b[0m \u001b[39m        - Compare related statistics when possible (e.g., overlap between zones used under pressure vs. when attacking, or shared key players).\u001b[39;00m\n\u001b[1;32m     <a href='vscode-notebook-cell:/Users/arnavarora/GameAnalysis/collect_data.ipynb#W5sZmlsZQ%3D%3D?line=23'>24</a>\u001b[0m \u001b[39m        - Emphasize patterns in zone transitions, key passing duos, common switching behavior, and tempo if available.\u001b[39;00m\n\u001b[1;32m     <a href='vscode-notebook-cell:/Users/arnavarora/GameAnalysis/collect_data.ipynb#W5sZmlsZQ%3D%3D?line=24'>25</a>\u001b[0m \n\u001b[1;32m     <a href='vscode-notebook-cell:/Users/arnavarora/GameAnalysis/collect_data.ipynb#W5sZmlsZQ%3D%3D?line=25'>26</a>\u001b[0m \u001b[39m        Only use insights from the data. Write clearly and insightfully, like a coach briefing or match analyst report.\u001b[39;00m\n\u001b[1;32m     <a href='vscode-notebook-cell:/Users/arnavarora/GameAnalysis/collect_data.ipynb#W5sZmlsZQ%3D%3D?line=26'>27</a>\u001b[0m \u001b[39m        Here is the data:\u001b[39;00m\n\u001b[1;32m     <a href='vscode-notebook-cell:/Users/arnavarora/GameAnalysis/collect_data.ipynb#W5sZmlsZQ%3D%3D?line=27'>28</a>\u001b[0m \u001b[39m        {zone_summary}\\n\u001b[39;00m\n\u001b[1;32m     <a href='vscode-notebook-cell:/Users/arnavarora/GameAnalysis/collect_data.ipynb#W5sZmlsZQ%3D%3D?line=28'>29</a>\u001b[0m \u001b[39m        {tempo_summary}\\n\u001b[39;00m\n\u001b[1;32m     <a href='vscode-notebook-cell:/Users/arnavarora/GameAnalysis/collect_data.ipynb#W5sZmlsZQ%3D%3D?line=29'>30</a>\u001b[0m \u001b[39m        {switch_summary}\\n\u001b[39;00m\n\u001b[1;32m     <a href='vscode-notebook-cell:/Users/arnavarora/GameAnalysis/collect_data.ipynb#W5sZmlsZQ%3D%3D?line=30'>31</a>\u001b[0m \u001b[39m        {player_summary}\\n\u001b[39;00m\n\u001b[1;32m     <a href='vscode-notebook-cell:/Users/arnavarora/GameAnalysis/collect_data.ipynb#W5sZmlsZQ%3D%3D?line=31'>32</a>\u001b[0m \u001b[39m    \"\"\"\u001b[39;00m\n\u001b[1;32m     <a href='vscode-notebook-cell:/Users/arnavarora/GameAnalysis/collect_data.ipynb#W5sZmlsZQ%3D%3D?line=32'>33</a>\u001b[0m \n\u001b[1;32m     <a href='vscode-notebook-cell:/Users/arnavarora/GameAnalysis/collect_data.ipynb#W5sZmlsZQ%3D%3D?line=33'>34</a>\u001b[0m )\n\u001b[1;32m     <a href='vscode-notebook-cell:/Users/arnavarora/GameAnalysis/collect_data.ipynb#W5sZmlsZQ%3D%3D?line=35'>36</a>\u001b[0m \u001b[39mprint\u001b[39m(response\u001b[39m.\u001b[39mtext)\n",
      "File \u001b[0;32m~/anaconda3/lib/python3.11/site-packages/google/genai/models.py:4942\u001b[0m, in \u001b[0;36mModels.generate_content\u001b[0;34m(self, model, contents, config)\u001b[0m\n\u001b[1;32m   4940\u001b[0m \u001b[39mwhile\u001b[39;00m remaining_remote_calls_afc \u001b[39m>\u001b[39m \u001b[39m0\u001b[39m:\n\u001b[1;32m   4941\u001b[0m   i \u001b[39m+\u001b[39m\u001b[39m=\u001b[39m \u001b[39m1\u001b[39m\n\u001b[0;32m-> 4942\u001b[0m   response \u001b[39m=\u001b[39m \u001b[39mself\u001b[39m\u001b[39m.\u001b[39m_generate_content(\n\u001b[1;32m   4943\u001b[0m       model\u001b[39m=\u001b[39mmodel, contents\u001b[39m=\u001b[39mcontents, config\u001b[39m=\u001b[39mconfig\n\u001b[1;32m   4944\u001b[0m   )\n\u001b[1;32m   4945\u001b[0m   logger\u001b[39m.\u001b[39minfo(\u001b[39mf\u001b[39m\u001b[39m'\u001b[39m\u001b[39mAFC remote call \u001b[39m\u001b[39m{\u001b[39;00mi\u001b[39m}\u001b[39;00m\u001b[39m is done.\u001b[39m\u001b[39m'\u001b[39m)\n\u001b[1;32m   4946\u001b[0m   remaining_remote_calls_afc \u001b[39m-\u001b[39m\u001b[39m=\u001b[39m \u001b[39m1\u001b[39m\n",
      "File \u001b[0;32m~/anaconda3/lib/python3.11/site-packages/google/genai/models.py:3915\u001b[0m, in \u001b[0;36mModels._generate_content\u001b[0;34m(self, model, contents, config)\u001b[0m\n\u001b[1;32m   3912\u001b[0m request_dict \u001b[39m=\u001b[39m _common\u001b[39m.\u001b[39mconvert_to_dict(request_dict)\n\u001b[1;32m   3913\u001b[0m request_dict \u001b[39m=\u001b[39m _common\u001b[39m.\u001b[39mencode_unserializable_types(request_dict)\n\u001b[0;32m-> 3915\u001b[0m response_dict \u001b[39m=\u001b[39m \u001b[39mself\u001b[39m\u001b[39m.\u001b[39m_api_client\u001b[39m.\u001b[39mrequest(\n\u001b[1;32m   3916\u001b[0m     \u001b[39m'\u001b[39m\u001b[39mpost\u001b[39m\u001b[39m'\u001b[39m, path, request_dict, http_options\n\u001b[1;32m   3917\u001b[0m )\n\u001b[1;32m   3919\u001b[0m \u001b[39mif\u001b[39;00m \u001b[39mself\u001b[39m\u001b[39m.\u001b[39m_api_client\u001b[39m.\u001b[39mvertexai:\n\u001b[1;32m   3920\u001b[0m   response_dict \u001b[39m=\u001b[39m _GenerateContentResponse_from_vertex(\n\u001b[1;32m   3921\u001b[0m       \u001b[39mself\u001b[39m\u001b[39m.\u001b[39m_api_client, response_dict\n\u001b[1;32m   3922\u001b[0m   )\n",
      "File \u001b[0;32m~/anaconda3/lib/python3.11/site-packages/google/genai/_api_client.py:655\u001b[0m, in \u001b[0;36mBaseApiClient.request\u001b[0;34m(self, http_method, path, request_dict, http_options)\u001b[0m\n\u001b[1;32m    645\u001b[0m \u001b[39mdef\u001b[39;00m \u001b[39mrequest\u001b[39m(\n\u001b[1;32m    646\u001b[0m     \u001b[39mself\u001b[39m,\n\u001b[1;32m    647\u001b[0m     http_method: \u001b[39mstr\u001b[39m,\n\u001b[0;32m   (...)\u001b[0m\n\u001b[1;32m    650\u001b[0m     http_options: Optional[HttpOptionsOrDict] \u001b[39m=\u001b[39m \u001b[39mNone\u001b[39;00m,\n\u001b[1;32m    651\u001b[0m ):\n\u001b[1;32m    652\u001b[0m   http_request \u001b[39m=\u001b[39m \u001b[39mself\u001b[39m\u001b[39m.\u001b[39m_build_request(\n\u001b[1;32m    653\u001b[0m       http_method, path, request_dict, http_options\n\u001b[1;32m    654\u001b[0m   )\n\u001b[0;32m--> 655\u001b[0m   response \u001b[39m=\u001b[39m \u001b[39mself\u001b[39m\u001b[39m.\u001b[39m_request(http_request, stream\u001b[39m=\u001b[39m\u001b[39mFalse\u001b[39;00m)\n\u001b[1;32m    656\u001b[0m   json_response \u001b[39m=\u001b[39m response\u001b[39m.\u001b[39mjson\n\u001b[1;32m    657\u001b[0m   \u001b[39mif\u001b[39;00m \u001b[39mnot\u001b[39;00m json_response:\n",
      "File \u001b[0;32m~/anaconda3/lib/python3.11/site-packages/google/genai/_api_client.py:584\u001b[0m, in \u001b[0;36mBaseApiClient._request\u001b[0;34m(self, http_request, stream)\u001b[0m\n\u001b[1;32m    576\u001b[0m \u001b[39melse\u001b[39;00m:\n\u001b[1;32m    577\u001b[0m   response \u001b[39m=\u001b[39m \u001b[39mself\u001b[39m\u001b[39m.\u001b[39m_httpx_client\u001b[39m.\u001b[39mrequest(\n\u001b[1;32m    578\u001b[0m       method\u001b[39m=\u001b[39mhttp_request\u001b[39m.\u001b[39mmethod,\n\u001b[1;32m    579\u001b[0m       url\u001b[39m=\u001b[39mhttp_request\u001b[39m.\u001b[39murl,\n\u001b[0;32m   (...)\u001b[0m\n\u001b[1;32m    582\u001b[0m       timeout\u001b[39m=\u001b[39mhttp_request\u001b[39m.\u001b[39mtimeout,\n\u001b[1;32m    583\u001b[0m   )\n\u001b[0;32m--> 584\u001b[0m   errors\u001b[39m.\u001b[39mAPIError\u001b[39m.\u001b[39mraise_for_response(response)\n\u001b[1;32m    585\u001b[0m   \u001b[39mreturn\u001b[39;00m HttpResponse(\n\u001b[1;32m    586\u001b[0m       response\u001b[39m.\u001b[39mheaders, response \u001b[39mif\u001b[39;00m stream \u001b[39melse\u001b[39;00m [response\u001b[39m.\u001b[39mtext]\n\u001b[1;32m    587\u001b[0m   )\n",
      "File \u001b[0;32m~/anaconda3/lib/python3.11/site-packages/google/genai/errors.py:101\u001b[0m, in \u001b[0;36mAPIError.raise_for_response\u001b[0;34m(cls, response)\u001b[0m\n\u001b[1;32m     99\u001b[0m status_code \u001b[39m=\u001b[39m response\u001b[39m.\u001b[39mstatus_code\n\u001b[1;32m    100\u001b[0m \u001b[39mif\u001b[39;00m \u001b[39m400\u001b[39m \u001b[39m<\u001b[39m\u001b[39m=\u001b[39m status_code \u001b[39m<\u001b[39m \u001b[39m500\u001b[39m:\n\u001b[0;32m--> 101\u001b[0m   \u001b[39mraise\u001b[39;00m ClientError(status_code, response_json, response)\n\u001b[1;32m    102\u001b[0m \u001b[39melif\u001b[39;00m \u001b[39m500\u001b[39m \u001b[39m<\u001b[39m\u001b[39m=\u001b[39m status_code \u001b[39m<\u001b[39m \u001b[39m600\u001b[39m:\n\u001b[1;32m    103\u001b[0m   \u001b[39mraise\u001b[39;00m ServerError(status_code, response_json, response)\n",
      "\u001b[0;31mClientError\u001b[0m: 400 INVALID_ARGUMENT. {'error': {'code': 400, 'message': 'API key not valid. Please pass a valid API key.', 'status': 'INVALID_ARGUMENT', 'details': [{'@type': 'type.googleapis.com/google.rpc.ErrorInfo', 'reason': 'API_KEY_INVALID', 'domain': 'googleapis.com', 'metadata': {'service': 'generativelanguage.googleapis.com'}}, {'@type': 'type.googleapis.com/google.rpc.LocalizedMessage', 'locale': 'en-US', 'message': 'API key not valid. Please pass a valid API key.'}]}}"
     ]
    }
   ],
   "source": [
    "from google import genai\n",
    "\n",
    "client = genai.Client(api_key=\"INSERT KEY HERE\")\n",
    "\n",
    "response = client.models.generate_content(\n",
    "    model=\"gemini-2.0-flash\", contents=\n",
    "    \"\"\"\n",
    "        You are a soccer analyst reviewing data from a team’s performance. The field is divided into 15 zones, composed of 5 vertical channels and 3 horizontal thirds.\n",
    "\n",
    "        There are two types of situations being analyzed:\n",
    "        - **Pressure moments**: instances where the team is under high defensive pressure.\n",
    "        - **Threatening moments**: attacking sequences progressing consecutively toward goal.\n",
    "\n",
    "        For each situation, the following types of insights are available:\n",
    "        - **Zones**: which zones possessions start in, end in, and the chains of movement between zones during a possession.\n",
    "        - **Switches**: switches of play defined as movements across 2 or more channels.\n",
    "        - **Player chains**: consecutive passes between players.\n",
    "        - **Player involvement**: how frequently individual players were involved in passes.\n",
    "\n",
    "        Instructions:\n",
    "        - Provide a **7-sentence summary** for each situation: one for pressure moments, and one for threatening moments.\n",
    "        - Present a **bullet-point breakdown** of the key insights in each case, using natural language that’s easy for non-technical readers to understand.\n",
    "        - Compare related statistics when possible (e.g., overlap between zones used under pressure vs. when attacking, or shared key players).\n",
    "        - Emphasize patterns in zone transitions, key passing duos, common switching behavior, and tempo if available.\n",
    "\n",
    "        Only use insights from the data. Write clearly and insightfully, like a coach briefing or match analyst report.\n",
    "        Here is the data:\n",
    "        {zone_summary}\\n\n",
    "        {tempo_summary}\\n\n",
    "        {switch_summary}\\n\n",
    "        {player_summary}\\n\n",
    "    \"\"\"\n",
    "\n",
    ")\n",
    "\n",
    "print(response.text)"
   ]
  }
 ],
 "metadata": {
  "kernelspec": {
   "display_name": "Python 3",
   "language": "python",
   "name": "python3"
  },
  "language_info": {
   "codemirror_mode": {
    "name": "ipython",
    "version": 3
   },
   "file_extension": ".py",
   "mimetype": "text/x-python",
   "name": "python",
   "nbconvert_exporter": "python",
   "pygments_lexer": "ipython3",
   "version": "3.11.4"
  },
  "orig_nbformat": 4
 },
 "nbformat": 4,
 "nbformat_minor": 2
}
